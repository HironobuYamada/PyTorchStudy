{
 "cells": [
  {
   "cell_type": "markdown",
   "metadata": {},
   "source": [
    "# 2-6章 \n",
    "---\n",
    "- 110p プログラム1行目 torch.LongTensor とは何か？(なぜlong？)\n",
    "- 110p 真ん中らへん: match()は何する関数？ 返り値は？\n",
    "- 110p プログラム下から4行目： dim() は何する関数？\n",
    "- 110p プログラム下から4行目： expand_as は何する関数？\n",
    "- 111p 2行目: loss_c にはどんな値のデータが入るか出力してみよう。次元数も。"
   ]
  },
  {
   "cell_type": "code",
   "execution_count": 1,
   "metadata": {},
   "outputs": [],
   "source": [
    "import warnings\n",
    "warnings.simplefilter('ignore')  # Warningを非表示"
   ]
  },
  {
   "cell_type": "markdown",
   "metadata": {},
   "source": [
    "# 110p プログラム1行目 torch.LongTensor とは何か？(なぜlong？)\n",
    "- 64bitの符号付き整数のtorch.Tensor型のこと\n",
    "[参考リンク1](https://codezine.jp/article/detail/11052#pocket-button-0:~:text=Tensor%E3%81%AF%E3%81%9D%E3%81%AE%E5%90%8D%E3%81%AE%E9%80%9A%E3%82%8A%E3%83%86%E3%83%B3%E3%82%BD%E3%83%AB%E3%80%81%E3%81%A4%E3%81%BE%E3%82%8A%E5%A4%9A%E6%AC%A1%E5%85%83%E9%85%8D%E5%88%97%E3%82%92%E6%89%B1%E3%81%86%E3%81%9F%E3%82%81%E3%81%AE%E3%83%87%E3%83%BC%E3%82%BF%E6%A7%8B%E9%80%A0%E3%81%A7%E3%81%99%E3%80%82NumPy%E3%81%AEndarray%E3%81%A8%E3%81%BB%E3%81%BC%E5%90%8C%E6%A7%98%E3%81%AEAPI%E3%82%92%E6%9C%89%E3%81%97%E3%81%A6%E3%81%8A%E3%82%8A%E3%80%81%E3%81%9D%E3%82%8C%E3%81%AB%E5%8A%A0%E3%81%88%E3%81%A6GPU%E3%81%AB%E3%82%88%E3%82%8B%E8%A8%88%E7%AE%97%E3%82%82%E3%82%B5%E3%83%9D%E3%83%BC%E3%83%88%E3%81%97%E3%81%A6%E3%81%84%E3%81%BE%E3%81%99%E3%80%82Tensor%E3%81%AF%E5%90%84%E3%83%87%E3%83%BC%E3%82%BF%E5%9E%8B%E3%81%AB%E5%AF%BE%E3%81%97%E3%81%A6%E5%AE%9A%E7%BE%A9%E3%81%95%E3%82%8C%E3%81%A6%E3%81%8A%E3%82%8A%E3%80%81%E4%BE%8B%E3%81%88%E3%81%B032bit%E3%81%AE%E6%B5%AE%E5%8B%95%E5%B0%8F%E6%95%B0%E7%82%B9%E6%95%B0%E3%81%A7%E3%81%97%E3%81%9F%E3%82%89torch.FloatTensor%E3%82%92%E3%80%8164bit%E3%81%AE%E7%AC%A6%E5%8F%B7%E4%BB%98%E3%81%8D%E6%95%B4%E6%95%B0%E3%81%A7%E3%81%97%E3%81%9F%E3%82%89torch.LongTensor%E3%82%92%E4%BD%BF%E7%94%A8%E3%81%97%E3%81%BE%E3%81%99%E3%80%82)\n",
    "[参考リンク2](https://www.hellocybernetics.tech/entry/2017/10/19/070522#LongTensor:~:text=%E3%83%AA%E3%82%B9%E3%83%88%E3%82%92%E6%B8%A1%E3%81%99%E3%81%A8%E3%80%81%E3%81%9D%E3%82%8C%E3%82%92%E3%81%9D%E3%81%AE%E3%81%BE%E3%81%BEFloatTensor%E3%81%AB%E3%81%97%E3%81%BE%E3%81%99%E3%80%82-,LongTensor,%E3%83%A1%E3%82%BD%E3%83%83%E3%83%89%E3%81%A7%E5%9E%8B%E3%82%92%E5%A4%89%E6%8F%9B%E3%81%99%E3%82%8B%E3%81%93%E3%81%A8%E3%82%82%E3%81%A7%E3%81%8D%E3%81%BE%E3%81%99%E3%80%82)\n",
    "[参考リンク3](https://www.pytry3g.com/entry/PyTorch-Tutorial-Introduction#Creating-Tensors:~:text=torch.tensor%E3%81%AF%E4%B8%8E%E3%81%88%E3%82%89%E3%82%8C%E3%81%9F%E3%83%87%E3%83%BC%E3%82%BF%E3%81%AE%E5%9E%8B%E3%82%92%E6%8E%A8%E8%AB%96%E3%81%97%E3%81%A6%E8%87%AA%E5%8B%95%E7%9A%84%E3%81%AB%E5%9E%8B%E3%82%92%E6%B1%BA%E5%AE%9A%E3%81%97%E3%81%A6%E3%81%8F%E3%82%8C%E3%81%BE%E3%81%99%E3%80%82%E4%B8%8A%E3%81%AE%E4%BE%8B%E3%81%A7%E3%81%AF%E3%80%81%E6%95%B4%E6%95%B0%E3%81%8C%E5%85%A5%E3%81%A3%E3%81%9F%E3%83%AA%E3%82%B9%E3%83%88%E3%82%92%E6%B8%A1%E3%81%97%E3%81%A6%E3%81%84%E3%82%8B%E3%81%AE%E3%81%A7%E3%83%87%E3%83%BC%E3%82%BF%E5%9E%8B%E3%81%AFtorch.LongTensor%E3%81%AB%E3%81%AA%E3%81%A3%E3%81%A6%E3%81%84%E3%81%BE%E3%81%99%E3%80%82%EF%BC%88%E2%80%BBtorch.int64%E3%81%AFCPU%E3%81%A7%E3%81%AFtorch.LongTensor%E3%81%AB%E3%80%81GPU%E3%81%A7%E3%81%AFtorch.cuda.LongTensor%E3%81%AB%E3%81%AA%E3%82%8A%E3%81%BE%E3%81%99%E3%80%82%EF%BC%89)"
   ]
  },
  {
   "cell_type": "code",
   "execution_count": 3,
   "metadata": {},
   "outputs": [
    {
     "data": {
      "text/plain": [
       "torch.Tensor"
      ]
     },
     "execution_count": 3,
     "metadata": {},
     "output_type": "execute_result"
    }
   ],
   "source": [
    "import torch\n",
    "\n",
    "type(torch.LongTensor())"
   ]
  },
  {
   "cell_type": "code",
   "execution_count": null,
   "metadata": {},
   "outputs": [],
   "source": []
  },
  {
   "cell_type": "code",
   "execution_count": null,
   "metadata": {},
   "outputs": [],
   "source": []
  },
  {
   "cell_type": "code",
   "execution_count": null,
   "metadata": {},
   "outputs": [],
   "source": []
  }
 ],
 "metadata": {
  "kernelspec": {
   "display_name": "pytc36",
   "language": "python",
   "name": "pytc36"
  },
  "language_info": {
   "codemirror_mode": {
    "name": "ipython",
    "version": 3
   },
   "file_extension": ".py",
   "mimetype": "text/x-python",
   "name": "python",
   "nbconvert_exporter": "python",
   "pygments_lexer": "ipython3",
   "version": "3.6.10"
  }
 },
 "nbformat": 4,
 "nbformat_minor": 4
}
